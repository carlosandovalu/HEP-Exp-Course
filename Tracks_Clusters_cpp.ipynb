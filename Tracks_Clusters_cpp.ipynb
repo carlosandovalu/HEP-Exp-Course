{
 "cells": [
  {
   "cell_type": "markdown",
   "metadata": {},
   "source": [
    "# An introductional notebook to HEP analysis in C++\n",
    "\n",
    "<p>In this notebook you can find an easy set of commands that show some basic computing techniques commonly used in High Energy Physics (HEP) analyzes.</p>\n",
    "\n",
    "<p>It also shows how to create an histogram, fill it and draw it. Moreover it is an introduction to [ROOT](https://root.cern.ch/) too. The final output is a plot with the number of leptons.</p>\n",
    "\n",
    "Based on ATLAS opendata notebooks (http://opendata.atlas.cern/release/2020/documentation/notebooks/intro.html)\n"
   ]
  },
  {
   "cell_type": "markdown",
   "metadata": {},
   "source": [
    "The library used is [ROOT](https://root.cern.ch/), a scientific data analysis software framework that provides a large set of functionalities needed to deal with big data processing, statistical analysis, visualisation and storage."
   ]
  },
  {
   "cell_type": "markdown",
   "metadata": {},
   "source": [
    "<p>At first we have to include several helpers that will support our analysis:</p>"
   ]
  },
  {
   "cell_type": "code",
   "execution_count": 1,
   "metadata": {},
   "outputs": [],
   "source": [
    "#include <iostream>\n",
    "#include <string>\n",
    "#include <stdio.h>"
   ]
  },
  {
   "cell_type": "markdown",
   "metadata": {},
   "source": [
    "Next we have to open the data that we want to analyze. As described above the data is stored in a _*.root_ file. This is a root file containing tracks and calorimeter clusters"
   ]
  },
  {
   "cell_type": "code",
   "execution_count": 2,
   "metadata": {},
   "outputs": [],
   "source": [
    "//TFile *file = TFile::Open(\"Tracks_Clusters.root\");\n",
    "TFile *file = TFile::Open(\"https://csandova.web.cern.ch/csandova/HEP-Ex-Course/Code/TracksClusters/Tracks_Clusters.root\");"
   ]
  },
  {
   "cell_type": "markdown",
   "metadata": {},
   "source": [
    "The next step is to define a tree named _tree_ to get the data out of the _*.root_ file. The tree in this root file is called \"JetRecoTree\". We will then print the contents of the tree to find the names of the variables. "
   ]
  },
  {
   "cell_type": "code",
   "execution_count": 3,
   "metadata": {},
   "outputs": [
    {
     "name": "stdout",
     "output_type": "stream",
     "text": [
      "******************************************************************************\n",
      "*Tree    :JetRecoTree: JetRecoTree                                            *\n",
      "*Entries :   102900 : Total =      3334789039 bytes  File  Size = 2227126936 *\n",
      "*        :          : Tree compression factor =   1.50                       *\n",
      "******************************************************************************\n",
      "*Br    0 :EventNumber : EventNumber/l                                        *\n",
      "*Entries :   102900 : Total  Size=     836872 bytes  File Size  =     448624 *\n",
      "*Baskets :      127 : Basket Size=       7219 bytes  Compression=   1.86     *\n",
      "*............................................................................*\n",
      "*Br    1 :RunNumber : RunNumber/l                                            *\n",
      "*Entries :   102900 : Total  Size=     836610 bytes  File Size  =      20416 *\n",
      "*Baskets :      127 : Basket Size=       7219 bytes  Compression=  40.84     *\n",
      "*............................................................................*\n",
      "*Br    2 :EventWeight : EventWeight/f                                        *\n",
      "*Entries :   102900 : Total  Size=     418649 bytes  File Size  =     402832 *\n",
      "*Baskets :       64 : Basket Size=       7219 bytes  Compression=   1.04     *\n",
      "*............................................................................*\n",
      "*Br    3 :mu_average : mu_average/f                                          *\n",
      "*Entries :   102900 : Total  Size=     418581 bytes  File Size  =     168998 *\n",
      "*Baskets :       64 : Basket Size=       7219 bytes  Compression=   2.47     *\n",
      "*............................................................................*\n",
      "*Br    4 :mu_actual : mu_actual/f                                            *\n",
      "*Entries :   102900 : Total  Size=     418513 bytes  File Size  =     168934 *\n",
      "*Baskets :       64 : Basket Size=       7219 bytes  Compression=   2.47     *\n",
      "*............................................................................*\n",
      "*Br    5 :NPV       : NPV/i                                                  *\n",
      "*Entries :   102900 : Total  Size=     418105 bytes  File Size  =     121543 *\n",
      "*Baskets :       64 : Basket Size=       7219 bytes  Compression=   3.43     *\n",
      "*............................................................................*\n",
      "*Br    6 :Tracks_pt : vector<float>                                          *\n",
      "*Entries :   102900 : Total  Size=  262928429 bytes  File Size  =  232265540 *\n",
      "*Baskets :      128 : Basket Size=    3622912 bytes  Compression=   1.13     *\n",
      "*............................................................................*\n",
      "*Br    7 :Tracks_eta : vector<float>                                         *\n",
      "*Entries :   102900 : Total  Size=  262928561 bytes  File Size  =  243525928 *\n",
      "*Baskets :      128 : Basket Size=    3622912 bytes  Compression=   1.08     *\n",
      "*............................................................................*\n",
      "*Br    8 :Tracks_phi : vector<float>                                         *\n",
      "*Entries :   102900 : Total  Size=  262928561 bytes  File Size  =  243555112 *\n",
      "*Baskets :      128 : Basket Size=    3622912 bytes  Compression=   1.08     *\n",
      "*............................................................................*\n",
      "*Br    9 :Tracks_m  : vector<float>                                          *\n",
      "*Entries :   102900 : Total  Size=  262928297 bytes  File Size  =  128758959 *\n",
      "*Baskets :      128 : Basket Size=    3622912 bytes  Compression=   2.04     *\n",
      "*............................................................................*\n",
      "*Br   10 :Tracks_vtx : vector<int>                                           *\n",
      "*Entries :   102900 : Total  Size=  262928561 bytes  File Size  =   58998852 *\n",
      "*Baskets :      128 : Basket Size=    3622912 bytes  Compression=   4.46     *\n",
      "*............................................................................*\n",
      "*Br   11 :Clusters_pt : vector<float>                                        *\n",
      "*Entries :   102900 : Total  Size=  244379153 bytes  File Size  =  221895864 *\n",
      "*Baskets :      128 : Basket Size=    3622912 bytes  Compression=   1.10     *\n",
      "*............................................................................*\n",
      "*Br   12 :Clusters_eta : vector<float>                                       *\n",
      "*Entries :   102900 : Total  Size=  244379285 bytes  File Size  =  226601845 *\n",
      "*Baskets :      128 : Basket Size=    3622912 bytes  Compression=   1.08     *\n",
      "*............................................................................*\n",
      "*Br   13 :Clusters_phi : vector<float>                                       *\n",
      "*Entries :   102900 : Total  Size=  244379285 bytes  File Size  =  225357711 *\n",
      "*Baskets :      128 : Basket Size=    3622912 bytes  Compression=   1.08     *\n",
      "*............................................................................*\n",
      "*Br   14 :Clusters_m : vector<float>                                         *\n",
      "*Entries :   102900 : Total  Size=  244379021 bytes  File Size  =    2688240 *\n",
      "*Baskets :      128 : Basket Size=    3622912 bytes  Compression=  90.91     *\n",
      "*............................................................................*\n",
      "*Br   15 :Particles_pt : vector<float>                                       *\n",
      "*Entries :   102900 : Total  Size=  181674395 bytes  File Size  =  167488975 *\n",
      "*Baskets :       65 : Basket Size=    3622912 bytes  Compression=   1.08     *\n",
      "*............................................................................*\n",
      "*Br   16 :Particles_eta : vector<float>                                      *\n",
      "*Entries :   102900 : Total  Size=  181674464 bytes  File Size  =  168944905 *\n",
      "*Baskets :       65 : Basket Size=    3622912 bytes  Compression=   1.08     *\n",
      "*............................................................................*\n",
      "*Br   17 :Particles_phi : vector<float>                                      *\n",
      "*Entries :   102900 : Total  Size=  181674464 bytes  File Size  =  168168066 *\n",
      "*Baskets :       65 : Basket Size=    3622912 bytes  Compression=   1.08     *\n",
      "*............................................................................*\n",
      "*Br   18 :Particles_m : vector<float>                                        *\n",
      "*Entries :   102900 : Total  Size=  181674326 bytes  File Size  =   21893813 *\n",
      "*Baskets :       65 : Basket Size=    3622912 bytes  Compression=   8.30     *\n",
      "*............................................................................*\n",
      "*Br   19 :Particles_pdgID : vector<int>                                      *\n",
      "*Entries :   102900 : Total  Size=  181674602 bytes  File Size  =   26491397 *\n",
      "*Baskets :       65 : Basket Size=    3622912 bytes  Compression=   6.86     *\n",
      "*............................................................................*\n",
      "*Br   20 :RecoJets_R4_pt : vector<float>                                     *\n",
      "*Entries :   102900 : Total  Size=    8399881 bytes  File Size  =    6970572 *\n",
      "*Baskets :       65 : Basket Size=     254464 bytes  Compression=   1.20     *\n",
      "*............................................................................*\n",
      "*Br   21 :RecoJets_R4_eta : vector<float>                                    *\n",
      "*Entries :   102900 : Total  Size=    8399950 bytes  File Size  =    7257663 *\n",
      "*Baskets :       65 : Basket Size=     254464 bytes  Compression=   1.16     *\n",
      "*............................................................................*\n",
      "*Br   22 :RecoJets_R4_phi : vector<float>                                    *\n",
      "*Entries :   102900 : Total  Size=    8399950 bytes  File Size  =    7235997 *\n",
      "*Baskets :       65 : Basket Size=     254464 bytes  Compression=   1.16     *\n",
      "*............................................................................*\n",
      "*Br   23 :RecoJets_R4_m : vector<float>                                      *\n",
      "*Entries :   102900 : Total  Size=    8399812 bytes  File Size  =    6985643 *\n",
      "*Baskets :       65 : Basket Size=     254464 bytes  Compression=   1.20     *\n",
      "*............................................................................*\n",
      "*Br   24 :RecoJets_R4_jvf : vector<float>                                    *\n",
      "*Entries :   102900 : Total  Size=    8399950 bytes  File Size  =    5684124 *\n",
      "*Baskets :       65 : Basket Size=     254464 bytes  Compression=   1.48     *\n",
      "*............................................................................*\n",
      "*Br   25 :TrackJets_R4_pt : vector<float>                                    *\n",
      "*Entries :   102900 : Total  Size=    3020029 bytes  File Size  =    1978875 *\n",
      "*Baskets :      128 : Basket Size=      41984 bytes  Compression=   1.52     *\n",
      "*............................................................................*\n",
      "*Br   26 :TrackJets_R4_eta : vector<float>                                   *\n",
      "*Entries :   102900 : Total  Size=    3020161 bytes  File Size  =    2013703 *\n",
      "*Baskets :      128 : Basket Size=      41984 bytes  Compression=   1.50     *\n",
      "*............................................................................*\n",
      "*Br   27 :TrackJets_R4_phi : vector<float>                                   *\n",
      "*Entries :   102900 : Total  Size=    3020161 bytes  File Size  =    2010836 *\n",
      "*Baskets :      128 : Basket Size=      41984 bytes  Compression=   1.50     *\n",
      "*............................................................................*\n",
      "*Br   28 :TrackJets_R4_m : vector<float>                                     *\n",
      "*Entries :   102900 : Total  Size=    3019897 bytes  File Size  =    1972166 *\n",
      "*Baskets :      128 : Basket Size=      41984 bytes  Compression=   1.53     *\n",
      "*............................................................................*\n",
      "*Br   29 :RecoJets_R10_pt : vector<float>                                    *\n",
      "*Entries :   102900 : Total  Size=    2251013 bytes  File Size  =    1181658 *\n",
      "*Baskets :      128 : Basket Size=      32768 bytes  Compression=   1.90     *\n",
      "*............................................................................*\n",
      "*Br   30 :RecoJets_R10_eta : vector<float>                                   *\n",
      "*Entries :   102900 : Total  Size=    2251145 bytes  File Size  =    1226587 *\n",
      "*Baskets :      128 : Basket Size=      32768 bytes  Compression=   1.83     *\n",
      "*............................................................................*\n",
      "*Br   31 :RecoJets_R10_phi : vector<float>                                   *\n",
      "*Entries :   102900 : Total  Size=    2251145 bytes  File Size  =    1223360 *\n",
      "*Baskets :      128 : Basket Size=      32768 bytes  Compression=   1.84     *\n",
      "*............................................................................*\n",
      "*Br   32 :RecoJets_R10_m : vector<float>                                     *\n",
      "*Entries :   102900 : Total  Size=    2250881 bytes  File Size  =    1181924 *\n",
      "*Baskets :      128 : Basket Size=      32768 bytes  Compression=   1.90     *\n",
      "*............................................................................*\n",
      "*Br   33 :RecoJets_R10_D2beta1 : vector<float>                               *\n",
      "*Entries :   102900 : Total  Size=    2251673 bytes  File Size  =    1189408 *\n",
      "*Baskets :      128 : Basket Size=      32768 bytes  Compression=   1.89     *\n",
      "*............................................................................*\n",
      "*Br   34 :RecoJets_R10_tau32wta : vector<float>                              *\n",
      "*Entries :   102900 : Total  Size=    2251805 bytes  File Size  =    1137893 *\n",
      "*Baskets :      128 : Basket Size=      32768 bytes  Compression=   1.98     *\n",
      "*............................................................................*\n",
      "*Br   35 :RecoJets_R10_Trimmed_pt : vector<float>                            *\n",
      "*Entries :   102900 : Total  Size=    2252069 bytes  File Size  =    1193515 *\n",
      "*Baskets :      128 : Basket Size=      32768 bytes  Compression=   1.88     *\n",
      "*............................................................................*\n",
      "*Br   36 :RecoJets_R10_Trimmed_eta : vector<float>                           *\n",
      "*Entries :   102900 : Total  Size=    2252201 bytes  File Size  =    1227822 *\n",
      "*Baskets :      128 : Basket Size=      32768 bytes  Compression=   1.83     *\n",
      "*............................................................................*\n",
      "*Br   37 :RecoJets_R10_Trimmed_phi : vector<float>                           *\n",
      "*Entries :   102900 : Total  Size=    2252201 bytes  File Size  =    1224259 *\n",
      "*Baskets :      128 : Basket Size=      32768 bytes  Compression=   1.84     *\n",
      "*............................................................................*\n",
      "*Br   38 :RecoJets_R10_Trimmed_m : vector<float>                             *\n",
      "*Entries :   102900 : Total  Size=    2251937 bytes  File Size  =    1201169 *\n",
      "*Baskets :      128 : Basket Size=      32768 bytes  Compression=   1.87     *\n",
      "*............................................................................*\n",
      "*Br   39 :RecoJets_R10_Trimmed_D2beta1 : vector<float>                       *\n",
      "*Entries :   102900 : Total  Size=    2252729 bytes  File Size  =    1186517 *\n",
      "*Baskets :      128 : Basket Size=      32768 bytes  Compression=   1.90     *\n",
      "*............................................................................*\n",
      "*Br   40 :RecoJets_R10_Trimmed_tau32wta : vector<float>                      *\n",
      "*Entries :   102900 : Total  Size=    2252861 bytes  File Size  =    1165565 *\n",
      "*Baskets :      128 : Basket Size=      32768 bytes  Compression=   1.93     *\n",
      "*............................................................................*\n",
      "*Br   41 :TruthJets_R4_pt : vector<float>                                    *\n",
      "*Entries :   102900 : Total  Size=    5663442 bytes  File Size  =    4523590 *\n",
      "*Baskets :       65 : Basket Size=     120832 bytes  Compression=   1.25     *\n",
      "*............................................................................*\n",
      "*Br   42 :TruthJets_R4_eta : vector<float>                                   *\n",
      "*Entries :   102900 : Total  Size=    5663511 bytes  File Size  =    4595498 *\n",
      "*Baskets :       65 : Basket Size=     120832 bytes  Compression=   1.23     *\n",
      "*............................................................................*\n",
      "*Br   43 :TruthJets_R4_phi : vector<float>                                   *\n",
      "*Entries :   102900 : Total  Size=    5663511 bytes  File Size  =    4570123 *\n",
      "*Baskets :       65 : Basket Size=     120832 bytes  Compression=   1.24     *\n",
      "*............................................................................*\n",
      "*Br   44 :TruthJets_R4_m : vector<float>                                     *\n",
      "*Entries :   102900 : Total  Size=    5663373 bytes  File Size  =    4494532 *\n",
      "*Baskets :       65 : Basket Size=     120832 bytes  Compression=   1.26     *\n",
      "*............................................................................*\n",
      "*Br   45 :TruthJets_R10_pt : vector<float>                                   *\n",
      "*Entries :   102900 : Total  Size=    2261873 bytes  File Size  =    1196555 *\n",
      "*Baskets :      128 : Basket Size=      32256 bytes  Compression=   1.89     *\n",
      "*............................................................................*\n",
      "*Br   46 :TruthJets_R10_eta : vector<float>                                  *\n",
      "*Entries :   102900 : Total  Size=    2262005 bytes  File Size  =    1236630 *\n",
      "*Baskets :      128 : Basket Size=      32256 bytes  Compression=   1.83     *\n",
      "*............................................................................*\n",
      "*Br   47 :TruthJets_R10_phi : vector<float>                                  *\n",
      "*Entries :   102900 : Total  Size=    2262005 bytes  File Size  =    1232418 *\n",
      "*Baskets :      128 : Basket Size=      32256 bytes  Compression=   1.83     *\n",
      "*............................................................................*\n",
      "*Br   48 :TruthJets_R10_m : vector<float>                                    *\n",
      "*Entries :   102900 : Total  Size=    2261741 bytes  File Size  =    1198650 *\n",
      "*Baskets :      128 : Basket Size=      32256 bytes  Compression=   1.88     *\n",
      "*............................................................................*\n",
      "*Br   49 :TruthJets_R10_D2beta1 : vector<float>                              *\n",
      "*Entries :   102900 : Total  Size=    2262533 bytes  File Size  =    1208086 *\n",
      "*Baskets :      128 : Basket Size=      32256 bytes  Compression=   1.87     *\n",
      "*............................................................................*\n",
      "*Br   50 :TruthJets_R10_tau32wta : vector<float>                             *\n",
      "*Entries :   102900 : Total  Size=    2262665 bytes  File Size  =    1151969 *\n",
      "*Baskets :      128 : Basket Size=      32256 bytes  Compression=   1.96     *\n",
      "*............................................................................*\n",
      "*Br   51 :TruthJets_R10_Trimmed_pt : vector<float>                           *\n",
      "*Entries :   102900 : Total  Size=    2262929 bytes  File Size  =    1200297 *\n",
      "*Baskets :      128 : Basket Size=      32256 bytes  Compression=   1.88     *\n",
      "*............................................................................*\n",
      "*Br   52 :TruthJets_R10_Trimmed_eta : vector<float>                          *\n",
      "*Entries :   102900 : Total  Size=    2263061 bytes  File Size  =    1237632 *\n",
      "*Baskets :      128 : Basket Size=      32256 bytes  Compression=   1.83     *\n",
      "*............................................................................*\n",
      "*Br   53 :TruthJets_R10_Trimmed_phi : vector<float>                          *\n",
      "*Entries :   102900 : Total  Size=    2263061 bytes  File Size  =    1233325 *\n",
      "*Baskets :      128 : Basket Size=      32256 bytes  Compression=   1.83     *\n",
      "*............................................................................*\n",
      "*Br   54 :TruthJets_R10_Trimmed_m : vector<float>                            *\n",
      "*Entries :   102900 : Total  Size=    2262797 bytes  File Size  =    1211653 *\n",
      "*Baskets :      128 : Basket Size=      32256 bytes  Compression=   1.87     *\n",
      "*............................................................................*\n",
      "*Br   55 :TruthJets_R10_Trimmed_D2beta1 : vector<float>                      *\n",
      "*Entries :   102900 : Total  Size=    2263589 bytes  File Size  =    1203277 *\n",
      "*Baskets :      128 : Basket Size=      32256 bytes  Compression=   1.88     *\n",
      "*............................................................................*\n",
      "*Br   56 :TruthJets_R10_Trimmed_tau32wta : vector<float>                     *\n",
      "*Entries :   102900 : Total  Size=    2263721 bytes  File Size  =    1159033 *\n",
      "*Baskets :      128 : Basket Size=      32256 bytes  Compression=   1.95     *\n",
      "*............................................................................*\n"
     ]
    }
   ],
   "source": [
    "TTree *tree = (TTree*) file->Get(\"JetRecoTree\");\n",
    "tree->Print()"
   ]
  },
  {
   "cell_type": "markdown",
   "metadata": {},
   "source": [
    "\n",
    "<p>The next step is to extract the varibles we want from the dataset. We will plot first an <b>\"event\"</b> variable: the number of primary vertices: "
   ]
  },
  {
   "cell_type": "code",
   "execution_count": 4,
   "metadata": {},
   "outputs": [],
   "source": [
    "UInt_t npv = -1;\n",
    "tree->SetBranchAddress(\"NPV\", &npv);"
   ]
  },
  {
   "cell_type": "markdown",
   "metadata": {},
   "source": [
    "After the data is opened we create a canvas on which we can draw a histogram. If we do not have a canvas we cannot see our histogram at the end. Its name is _Canvas_ and its header is _a first way to plot a variable_. The two following arguments define the width and the height of the canvas."
   ]
  },
  {
   "cell_type": "code",
   "execution_count": 5,
   "metadata": {},
   "outputs": [],
   "source": [
    "TCanvas *canvas = new TCanvas(\"Canvas\",\"a first way to plot a variable\",800,600);"
   ]
  },
  {
   "cell_type": "markdown",
   "metadata": {},
   "source": [
    "Now we define a histogram that will later be placed on this canvas. Its name is NPV and the header of the histogram is Example plot: Number of primary vertices. The three following arguments indicate that this histogram contains 50 so called bins which have a range from 1 to 50."
   ]
  },
  {
   "cell_type": "code",
   "execution_count": 6,
   "metadata": {},
   "outputs": [],
   "source": [
    "TH1F *hist_npv = new TH1F(\"NPV\",\"Example plot: Number of primary vertices; NPV ; Events \",50,1,50);"
   ]
  },
  {
   "cell_type": "markdown",
   "metadata": {},
   "source": [
    "The following lines are a loop that goes over the data that is stored in the tree and fills the histogram that we already defined. In this first notebook we don't do any cuts to keep it simple. Accordingly the loop fills the histogram for each event stored in the tree. After the program has looped over all the data it prints the word</p>\n",
    "__Done!__."
   ]
  },
  {
   "cell_type": "code",
   "execution_count": null,
   "metadata": {},
   "outputs": [],
   "source": [
    "int nentries, nbytes, i;\n",
    "nentries = (Int_t)tree->GetEntries();\n",
    "\n",
    "for (i = 0; i < nentries; i++)\n",
    "{\n",
    "    nbytes = tree->GetEntry(i);\n",
    "    hist_npv->Fill(npv);\n",
    "}\n",
    "\n",
    "std::cout << \"Done!\" << std::endl;"
   ]
  },
  {
   "cell_type": "markdown",
   "metadata": {},
   "source": [
    "<p>After filling the histogram we want to see the results of the analysis. First we draw the histogram on the canvas and then the canvas on which the histogram lies:</p>"
   ]
  },
  {
   "cell_type": "code",
   "execution_count": 9,
   "metadata": {
    "scrolled": true
   },
   "outputs": [
    {
     "data": {
      "image/png": "[encoded data removed]",
      "text/plain": [
       "<IPython.core.display.Image object>"
      ]
     },
     "metadata": {},
     "output_type": "display_data"
    }
   ],
   "source": [
    "hist_npv->SetFillColor(kRed);\n",
    "hist_npv->Draw();\n",
    "canvas->Draw();"
   ]
  },
  {
   "cell_type": "code",
   "execution_count": 10,
   "metadata": {},
   "outputs": [],
   "source": [
    "Float_t scale = hist_npv->Integral();\n",
    "hist_npv->Scale(1/scale);\n",
    "hist_npv->SetFillColor(2);"
   ]
  },
  {
   "cell_type": "code",
   "execution_count": 12,
   "metadata": {
    "scrolled": true
   },
   "outputs": [
    {
     "data": {
      "image/png": "[encoded data removed]",
      "text/plain": [
       "<IPython.core.display.Image object>"
      ]
     },
     "metadata": {},
     "output_type": "display_data"
    }
   ],
   "source": [
    "hist_npv->DrawNormalized();\n",
    "canvas->Draw();"
   ]
  },
  {
   "cell_type": "markdown",
   "metadata": {},
   "source": [
    "<b>Excercises: \n",
    "    1. Plot the number of average interactions per bunch-crossing (mu_average)\n",
    "    2. Make a 2D histogram of NPV vs. mu\n",
    "</b>"
   ]
  },
  {
   "cell_type": "markdown",
   "metadata": {},
   "source": [
    "Some branches are not event variables, but objects with some kinematical infomation. They are stored in vectors. For example tracks and clusters. We will create two histograms to store the number of tracks and clusters in each event. "
   ]
  },
  {
   "cell_type": "code",
   "execution_count": 14,
   "metadata": {},
   "outputs": [],
   "source": [
    "TH1F *hist_nTrks = new TH1F(\"NTracks\",\"Example plot: Number of tracks; NTracks ; Events \",50,0,1000);\n",
    "TH1F *hist_nCltrs = new TH1F(\"NClusters\",\"Example plot: Number of clusters; NClusters ; Events \",50,0,1000);"
   ]
  },
  {
   "cell_type": "markdown",
   "metadata": {},
   "source": [
    "Now we activate two branches"
   ]
  },
  {
   "cell_type": "code",
   "execution_count": 15,
   "metadata": {},
   "outputs": [],
   "source": [
    "vector<float> *tracks_pt;\n",
    "vector<float> *clusters_pt;\n",
    "\n",
    "tree->SetBranchAddress(\"Tracks_pt\", &tracks_pt);\n",
    "tree->SetBranchAddress(\"Clusters_pt\", &clusters_pt);"
   ]
  },
  {
   "cell_type": "markdown",
   "metadata": {},
   "source": [
    "For each event, fill the histograms with the size of the vectors"
   ]
  },
  {
   "cell_type": "code",
   "execution_count": 13,
   "metadata": {
    "scrolled": true
   },
   "outputs": [
    {
     "name": "stdout",
     "output_type": "stream",
     "text": [
      "Done!\n"
     ]
    }
   ],
   "source": [
    "int nentries, nbytes, i;\n",
    "nentries = (Int_t)tree->GetEntries();\n",
    "\n",
    "for (i = 0; i < nentries; i++)\n",
    "{\n",
    "    nbytes = tree->GetEntry(i);\n",
    "    hist_nTrks->Fill(tracks_pt->size());\n",
    "    hist_nCltrs->Fill(clusters_pt->size());\n",
    "\n",
    "}\n",
    "\n",
    "std::cout << \"Done!\" << std::endl;"
   ]
  },
  {
   "cell_type": "code",
   "execution_count": 14,
   "metadata": {},
   "outputs": [
    {
     "data": {
      "image/png": "[encoded data removed]",
      "text/plain": [
       "<IPython.core.display.Image object>"
      ]
     },
     "metadata": {},
     "output_type": "display_data"
    }
   ],
   "source": [
    "hist_nTrks->SetFillColor(kBlue);\n",
    "hist_nTrks->Draw();\n",
    "canvas->Draw();"
   ]
  },
  {
   "cell_type": "code",
   "execution_count": 15,
   "metadata": {
    "scrolled": true
   },
   "outputs": [
    {
     "data": {
      "image/png": "[encoded data removed]",
      "text/plain": [
       "<IPython.core.display.Image object>"
      ]
     },
     "metadata": {},
     "output_type": "display_data"
    }
   ],
   "source": [
    "hist_nCltrs->SetFillColor(kYellow);\n",
    "hist_nCltrs->Draw();\n",
    "canvas->Draw();"
   ]
  },
  {
   "cell_type": "markdown",
   "metadata": {},
   "source": [
    "<b>Excercise: \n",
    "        3. Make a 2D histogram of NPV and mu vs. nTracks and nClusters: NPV vs. nTrack, NPV vs. nClusters, mu vs. nTrack, mu vs. NClusters\n",
    "</b>"
   ]
  },
  {
   "cell_type": "markdown",
   "metadata": {},
   "source": [
    "Now let us plot the pT of the \"lead\" track:"
   ]
  },
  {
   "cell_type": "code",
   "execution_count": 16,
   "metadata": {},
   "outputs": [],
   "source": [
    "TH1F *hist_track_pT = new TH1F(\"Track_pT\",\"Example plot: Track pT; pT (MeV) ; Events \",50,100,1000);"
   ]
  },
  {
   "cell_type": "code",
   "execution_count": 17,
   "metadata": {},
   "outputs": [
    {
     "name": "stdout",
     "output_type": "stream",
     "text": [
      "Done!\n"
     ]
    }
   ],
   "source": [
    "int nentries, nbytes, i;\n",
    "nentries = (Int_t)tree->GetEntries();\n",
    "\n",
    "for (i = 0; i < nentries; i++)\n",
    "{\n",
    "    nbytes = tree->GetEntry(i);\n",
    "    for(int tr=0; tr<tracks_pt->size(); tr++)\n",
    "    {\n",
    "        hist_track_pT->Fill(tracks_pt->at(tr));\n",
    "    }\n",
    "\n",
    "}\n",
    "\n",
    "std::cout << \"Done!\" << std::endl;"
   ]
  },
  {
   "cell_type": "code",
   "execution_count": 18,
   "metadata": {},
   "outputs": [
    {
     "data": {
      "image/png": "[encoded data removed]",
      "text/plain": [
       "<IPython.core.display.Image object>"
      ]
     },
     "metadata": {},
     "output_type": "display_data"
    }
   ],
   "source": [
    "hist_track_pT->SetFillColor(kGreen);\n",
    "hist_track_pT->Draw();\n",
    "canvas->Draw();"
   ]
  },
  {
   "cell_type": "markdown",
   "metadata": {},
   "source": [
    "<b>Excercises: \n",
    "4. Plot all track, cluster and particle variables\n",
    "5. Interpret the meaning of each variable\n",
    "6. What is \"Particle PDG ID\"?\n",
    "</b>"
   ]
  },
  {
   "cell_type": "code",
   "execution_count": null,
   "metadata": {},
   "outputs": [],
   "source": []
  }
 ],
 "metadata": {
  "kernelspec": {
   "display_name": "ROOT C++",
   "language": "c++",
   "name": "root"
  },
  "language_info": {
   "codemirror_mode": "text/x-c++src",
   "file_extension": ".C",
   "mimetype": " text/x-c++src",
   "name": "c++"
  }
 },
 "nbformat": 4,
 "nbformat_minor": 4
}
